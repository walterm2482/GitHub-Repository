{
 "cells": [
  {
   "cell_type": "markdown",
   "id": "d313bdff",
   "metadata": {},
   "source": [
    "\n",
    "# Final Project: Tesla vs GameStop — Stock Price and Revenue Dashboard\n",
    "\n",
    "**Autor:** _Completa con tu nombre_  \n",
    "**Curso:** IBM Data Science / Python Project for Data Science\n",
    "\n",
    "Objetivo: Extraer datos de precio (yfinance) y de ingresos (web‑scraping) para **Tesla (TSLA)** y **GameStop (GME)**, luego construir tableros para comparar **precio** vs **ingresos**.\n",
    "\n",
    "> Requisitos: `yfinance`, `pandas`, `requests`, `beautifulsoup4`, `lxml`, `plotly`.\n"
   ]
  },
  {
   "cell_type": "code",
   "execution_count": null,
   "id": "7a240006",
   "metadata": {},
   "outputs": [],
   "source": [
    "\n",
    "# === 0) Dependencias ===\n",
    "# Ejecuta esta celda si faltan paquetes\n",
    "# Nota: en algunos entornos necesitarás reiniciar el kernel tras la instalación.\n",
    "try:\n",
    "    import yfinance, pandas, bs4, lxml, plotly\n",
    "except Exception:\n",
    "    %pip -q install yfinance pandas requests beautifulsoup4 lxml plotly\n"
   ]
  },
  {
   "cell_type": "code",
   "execution_count": null,
   "id": "0668f908",
   "metadata": {},
   "outputs": [],
   "source": [
    "\n",
    "# === 1) Imports y utilidades ===\n",
    "import re\n",
    "import pandas as pd\n",
    "import yfinance as yf\n",
    "import requests\n",
    "from bs4 import BeautifulSoup\n",
    "from datetime import datetime\n",
    "import plotly.graph_objects as go\n",
    "from plotly.subplots import make_subplots\n",
    "\n",
    "pd.options.display.float_format = '{:,.6f}'.format\n"
   ]
  },
  {
   "cell_type": "code",
   "execution_count": null,
   "id": "dad48850",
   "metadata": {},
   "outputs": [],
   "source": [
    "\n",
    "# === 2) Funciones ===\n",
    "\n",
    "def get_stock_history(ticker: str, period: str = \"max\") -> pd.DataFrame:\n",
    "    \"\"\"\n",
    "    Descarga historial de precios de cierre para 'ticker' usando yfinance.\n",
    "    Devuelve DataFrame con columnas ['Date', 'Open','High','Low','Close','Volume',...].\n",
    "    \"\"\"\n",
    "    tk = yf.Ticker(ticker)\n",
    "    df = tk.history(period=period).reset_index()\n",
    "    # Normaliza nombre de la columna de fecha a 'Date' si es necesario\n",
    "    if 'date' in df.columns and 'Date' not in df.columns:\n",
    "        df = df.rename(columns={'date': 'Date'})\n",
    "    # Asegura tipos\n",
    "    df['Date'] = pd.to_datetime(df['Date'])\n",
    "    return df\n",
    "\n",
    "def _clean_money_to_float(x: str) -> float:\n",
    "    \"\"\"Convierte '$12,345' o '12,345' a float. Maneja valores vacíos o '-' como NaN.\"\"\"\n",
    "    if x is None:\n",
    "        return float('nan')\n",
    "    s = str(x).strip()\n",
    "    if s in {\"\", \"-\", \"—\", \"N/A\"}:\n",
    "        return float('nan')\n",
    "    # Quita cualquier símbolo de moneda y separadores\n",
    "    s = re.sub(r'[^0-9.\\-]', '', s)\n",
    "    try:\n",
    "        return float(s)\n",
    "    except ValueError:\n",
    "        return float('nan')\n",
    "\n",
    "def scrape_quarterly_revenue(symbol: str, company_slug: str) -> pd.DataFrame:\n",
    "    \"\"\"\n",
    "    Extrae la tabla 'Quarterly Revenue' desde Macrotrends.\n",
    "    symbol: 'TSLA', 'GME', etc.\n",
    "    company_slug: 'tesla', 'gamestop', etc. como aparece en Macrotrends URLs.\n",
    "    Devuelve DataFrame con ['Date','Revenue'].\n",
    "    \"\"\"\n",
    "    url = f\"https://www.macrotrends.net/stocks/charts/{symbol}/{company_slug}/revenue\"\n",
    "    headers = {\n",
    "        \"User-Agent\": \"Mozilla/5.0\",\n",
    "        \"Accept-Language\": \"en-US,en;q=0.9\"\n",
    "    }\n",
    "    html = requests.get(url, headers=headers, timeout=30).text\n",
    "    soup = BeautifulSoup(html, \"lxml\")\n",
    "\n",
    "    # Busca la tabla que contiene \"Quarterly Revenue\"\n",
    "    tables = pd.read_html(str(soup))\n",
    "    target = None\n",
    "    for t in tables:\n",
    "        cols = [c.lower() for c in t.columns.astype(str).tolist()]\n",
    "        if (\"date\" in cols or \"quarter\" in cols) and any(\"revenue\" in c for c in cols):\n",
    "            target = t.copy()\n",
    "            break\n",
    "    if target is None:\n",
    "        raise RuntimeError(\"No se encontró tabla de ingresos trimestrales en la página de Macrotrends.\")\n",
    "\n",
    "    # Normaliza columnas\n",
    "    rename_map = {}\n",
    "    for c in target.columns:\n",
    "        cl = str(c).strip().lower()\n",
    "        if cl in {\"date\", \"quarter\", \"quarter end\", \"quarter ended\"}:\n",
    "            rename_map[c] = \"Date\"\n",
    "        if \"revenue\" in cl:\n",
    "            rename_map[c] = \"Revenue\"\n",
    "    target = target.rename(columns=rename_map)\n",
    "\n",
    "    # Filtra y limpia\n",
    "    keep_cols = [c for c in [\"Date\", \"Revenue\"] if c in target.columns]\n",
    "    df = target[keep_cols].dropna(how=\"all\")\n",
    "    # Limpieza de valores\n",
    "    df[\"Date\"] = pd.to_datetime(df[\"Date\"], errors=\"coerce\")\n",
    "    df[\"Revenue\"] = df[\"Revenue\"].apply(_clean_money_to_float)\n",
    "    df = df.dropna(subset=[\"Date\", \"Revenue\"]).sort_values(\"Date\").reset_index(drop=True)\n",
    "\n",
    "    return df\n",
    "\n",
    "def make_dashboard(stock_df: pd.DataFrame, revenue_df: pd.DataFrame, title_prefix: str):\n",
    "    \"\"\"\n",
    "    Crea un tablero 2x1 con:\n",
    "      - Arriba: precio de cierre vs tiempo.\n",
    "      - Abajo: ingresos trimestrales.\n",
    "    Muestra y devuelve la figura.\n",
    "    \"\"\"\n",
    "    fig = make_subplots(rows=2, cols=1, shared_xaxes=False,\n",
    "                        subplot_titles=(f\"{title_prefix} — Precio de Cierre\", f\"{title_prefix} — Ingresos Trimestrales (USD)\"))\n",
    "    # Serie de precio\n",
    "    fig.add_trace(\n",
    "        go.Scatter(x=stock_df[\"Date\"], y=stock_df[\"Close\"], mode=\"lines\", name=\"Close\"),\n",
    "        row=1, col=1\n",
    "    )\n",
    "    # Serie de ingresos\n",
    "    fig.add_trace(\n",
    "        go.Bar(x=revenue_df[\"Date\"], y=revenue_df[\"Revenue\"], name=\"Revenue\"),\n",
    "        row=2, col=1\n",
    "    )\n",
    "    fig.update_layout(height=800, width=1000, title_text=f\"{title_prefix}: Precio vs Ingresos\", showlegend=True)\n",
    "    return fig\n"
   ]
  },
  {
   "cell_type": "markdown",
   "id": "250ed39b",
   "metadata": {},
   "source": [
    "\n",
    "## Pregunta 1 — Extraer datos de **Tesla** con yfinance _(2 puntos)_\n"
   ]
  },
  {
   "cell_type": "code",
   "execution_count": null,
   "id": "ae6a5c4b",
   "metadata": {},
   "outputs": [],
   "source": [
    "\n",
    "# Q1\n",
    "tesla_ticker = \"TSLA\"\n",
    "tesla_data = get_stock_history(tesla_ticker, period=\"max\")\n",
    "tesla_data.head()\n"
   ]
  },
  {
   "cell_type": "markdown",
   "id": "4e1d00f5",
   "metadata": {},
   "source": [
    "\n",
    "## Pregunta 2 — Extraer **ingresos de Tesla** con web‑scraping _(1 punto)_\n",
    "Origen recomendado: **Macrotrends**.\n"
   ]
  },
  {
   "cell_type": "code",
   "execution_count": null,
   "id": "36bb2a18",
   "metadata": {},
   "outputs": [],
   "source": [
    "\n",
    "# Q2\n",
    "tesla_revenue = scrape_quarterly_revenue(\"TSLA\", \"tesla\")\n",
    "tesla_revenue.tail()\n"
   ]
  },
  {
   "cell_type": "markdown",
   "id": "f2eb6ec4",
   "metadata": {},
   "source": [
    "\n",
    "## Pregunta 3 — Extraer datos de **GameStop** con yfinance _(2 puntos)_\n"
   ]
  },
  {
   "cell_type": "code",
   "execution_count": null,
   "id": "1f545b10",
   "metadata": {},
   "outputs": [],
   "source": [
    "\n",
    "# Q3\n",
    "gme_ticker = \"GME\"\n",
    "gme_data = get_stock_history(gme_ticker, period=\"max\")\n",
    "gme_data.head()\n"
   ]
  },
  {
   "cell_type": "markdown",
   "id": "218a0c1c",
   "metadata": {},
   "source": [
    "\n",
    "## Pregunta 4 — Extraer **ingresos de GameStop** con web‑scraping _(1 punto)_\n"
   ]
  },
  {
   "cell_type": "code",
   "execution_count": null,
   "id": "ff0de36f",
   "metadata": {},
   "outputs": [],
   "source": [
    "\n",
    "# Q4\n",
    "gme_revenue = scrape_quarterly_revenue(\"GME\", \"gamestop\")\n",
    "gme_revenue.tail()\n"
   ]
  },
  {
   "cell_type": "markdown",
   "id": "2dc5dacb",
   "metadata": {},
   "source": [
    "\n",
    "### Nota sobre limpieza de fechas y montos\n",
    "- `Date` se convierte con `pd.to_datetime(..., errors=\"coerce\")` para evitar errores por formatos mixtos.  \n",
    "- `Revenue` se limpia con `_clean_money_to_float`, que elimina símbolos y comas.\n"
   ]
  },
  {
   "cell_type": "markdown",
   "id": "3bf4e9dc",
   "metadata": {},
   "source": [
    "\n",
    "## Pregunta 5 — Tablero **Tesla**: Precio vs Ingresos _(2 puntos)_\n"
   ]
  },
  {
   "cell_type": "code",
   "execution_count": null,
   "id": "96b3ebfe",
   "metadata": {},
   "outputs": [],
   "source": [
    "\n",
    "# Q5\n",
    "fig_tsla = make_dashboard(tesla_data[[\"Date\",\"Close\"]], tesla_revenue[[\"Date\",\"Revenue\"]], \"Tesla (TSLA)\")\n",
    "fig_tsla.show()\n",
    "# Opcional: guarda el tablero como HTML para adjuntar al envío\n",
    "fig_tsla.write_html(\"tesla_dashboard.html\")\n",
    "print(\"Guardado: tesla_dashboard.html\")\n"
   ]
  },
  {
   "cell_type": "markdown",
   "id": "69936dee",
   "metadata": {},
   "source": [
    "\n",
    "## Pregunta 6 — Tablero **GameStop**: Precio vs Ingresos _(2 puntos)_\n"
   ]
  },
  {
   "cell_type": "code",
   "execution_count": null,
   "id": "dd85b3f3",
   "metadata": {},
   "outputs": [],
   "source": [
    "\n",
    "# Q6\n",
    "fig_gme = make_dashboard(gme_data[[\"Date\",\"Close\"]], gme_revenue[[\"Date\",\"Revenue\"]], \"GameStop (GME)\")\n",
    "fig_gme.show()\n",
    "# Opcional: guarda el tablero como HTML\n",
    "fig_gme.write_html(\"gamestop_dashboard.html\")\n",
    "print(\"Guardado: gamestop_dashboard.html\")\n"
   ]
  },
  {
   "cell_type": "markdown",
   "id": "be806b1b",
   "metadata": {},
   "source": [
    "\n",
    "## Pregunta 7 — Compartir tu Notebook _(2 puntos)_\n",
    "1. Sube este `.ipynb` a GitHub o compártelo en IBM Skills Network/Colab.  \n",
    "2. Adjunta capturas de:\n",
    "   - Head de los DataFrames en Preguntas 1–4.\n",
    "   - Los dos tableros.\n",
    "3. Incluye los archivos HTML exportados si corresponde.\n"
   ]
  },
  {
   "cell_type": "markdown",
   "id": "572e4e23",
   "metadata": {},
   "source": [
    "\n",
    "## Depuración rápida\n",
    "\n",
    "- **`ValueError` al convertir fechas**: Usa `pd.to_datetime(col, errors=\"coerce\")` y revisa valores nulos.  \n",
    "- **Cambios en Macrotrends**: Si cambian los encabezados, ajusta el mapeo de columnas en `scrape_quarterly_revenue`.  \n",
    "- **Bloqueos de red**: Ejecuta en Colab o un entorno con salida a internet.\n"
   ]
  }
 ],
 "metadata": {},
 "nbformat": 4,
 "nbformat_minor": 5
}